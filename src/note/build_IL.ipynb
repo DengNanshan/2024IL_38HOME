{
 "cells": [
  {
   "cell_type": "markdown",
   "metadata": {},
   "source": [
    "内容包括构建数据，训练，测试\n",
    "1。 构建数据"
   ]
  },
  {
   "cell_type": "code",
   "execution_count": null,
   "metadata": {
    "vscode": {
     "languageId": "plaintext"
    }
   },
   "outputs": [],
   "source": []
  }
 ],
 "metadata": {
  "language_info": {
   "name": "python"
  }
 },
 "nbformat": 4,
 "nbformat_minor": 2
}
