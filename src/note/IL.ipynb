{
 "cells": [
  {
   "cell_type": "markdown",
   "metadata": {},
   "source": [
    "需要获取一个可以产出模仿学习数据的HighwayEnv环境"
   ]
  },
  {
   "cell_type": "markdown",
   "metadata": {},
   "source": [
    "首先下载higwayEnv 包并且从文件注册，以便后续可以进行修改"
   ]
  },
  {
   "cell_type": "code",
   "execution_count": null,
   "metadata": {},
   "outputs": [],
   "source": [
    "import highway_env\n",
    "highway_env.register_highway_envs()"
   ]
  },
  {
   "cell_type": "markdown",
   "metadata": {},
   "source": [
    "希望得到什么结果？\n",
    "\n",
    "\n",
    "随着存储空间的增加-表现性能提升\n",
    "\n",
    "是否需要共同训练：需要，但是预训练后提升组件就可以\n",
    "\n",
    "如果完全使用共同训练呢？ 使用绝对位置做，训练速度极其缓慢\n"
   ]
  },
  {
   "cell_type": "code",
   "execution_count": null,
   "metadata": {},
   "outputs": [],
   "source": []
  }
 ],
 "metadata": {
  "language_info": {
   "name": "python"
  },
  "orig_nbformat": 4
 },
 "nbformat": 4,
 "nbformat_minor": 2
}
