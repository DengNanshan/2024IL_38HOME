{
 "cells": [
  {
   "cell_type": "markdown",
   "metadata": {},
   "source": [
    "记录环境的随机性是如何产生的"
   ]
  },
  {
   "cell_type": "code",
   "execution_count": null,
   "metadata": {},
   "outputs": [],
   "source": [
    "def randomize_behavior(self):\n",
    "    self.DELTA = self.road.np_random.uniform(\n",
    "        low=self.DELTA_RANGE[0], high=self.DELTA_RANGE[1]\n",
    "    )"
   ]
  }
 ],
 "metadata": {
  "language_info": {
   "name": "python"
  },
  "orig_nbformat": 4
 },
 "nbformat": 4,
 "nbformat_minor": 2
}
