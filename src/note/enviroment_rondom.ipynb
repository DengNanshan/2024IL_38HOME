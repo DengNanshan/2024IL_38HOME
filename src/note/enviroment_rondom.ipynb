{
 "cells": [
  {
   "cell_type": "markdown",
   "metadata": {},
   "source": [
    "记录环境的随机性是如何产生的"
   ]
  },
  {
   "cell_type": "code",
   "execution_count": null,
   "metadata": {},
   "outputs": [],
   "source": [
    "# behavior中\n",
    "def randomize_behavior(self):\n",
    "    self.DELTA = self.road.np_random.uniform(\n",
    "        low=self.DELTA_RANGE[0], high=self.DELTA_RANGE[1]\n",
    "    )"
   ]
  },
  {
   "cell_type": "code",
   "execution_count": null,
   "metadata": {},
   "outputs": [],
   "source": [
    "# vehicle kinematics\n",
    "@classmethod\n",
    "def create_random(\n",
    "    cls,\n",
    "    road: Road,\n",
    "    speed: float = None,\n",
    "    lane_from: Optional[str] = None,\n",
    "    lane_to: Optional[str] = None,\n",
    "    lane_id: Optional[int] = None,\n",
    "    spacing: float = 1,\n",
    ") -> \"Vehicle\":\n",
    "    \"\"\"\n",
    "    Create a random vehicle on the road.\n",
    "\n",
    "    The lane and /or speed are chosen randomly, while longitudinal position is chosen behind the last\n",
    "    vehicle in the road with density based on the number of lanes.\n",
    "\n",
    "    :param road: the road where the vehicle is driving\n",
    "    :param speed: initial speed in [m/s]. If None, will be chosen randomly\n",
    "    :param lane_from: start node of the lane to spawn in\n",
    "    :param lane_to: end node of the lane to spawn in\n",
    "    :param lane_id: id of the lane to spawn in\n",
    "    :param spacing: ratio of spacing to the front vehicle, 1 being the default\n",
    "    :return: A vehicle with random position and/or speed\n",
    "    \"\"\"\n",
    "    _from = lane_from or road.np_random.choice(list(road.network.graph.keys()))\n",
    "    _to = lane_to or road.np_random.choice(list(road.network.graph[_from].keys()))\n",
    "    _id = (\n",
    "        lane_id\n",
    "        if lane_id is not None\n",
    "        else road.np_random.choice(len(road.network.graph[_from][_to]))\n",
    "    )\n",
    "    lane = road.network.get_lane((_from, _to, _id))\n",
    "    if speed is None:\n",
    "        if lane.speed_limit is not None:\n",
    "            speed = road.np_random.uniform(\n",
    "                0.7 * lane.speed_limit, 0.8 * lane.speed_limit\n",
    "            )\n",
    "        else:\n",
    "            speed = road.np_random.uniform(\n",
    "                Vehicle.DEFAULT_INITIAL_SPEEDS[0], Vehicle.DEFAULT_INITIAL_SPEEDS[1]\n",
    "            )\n",
    "    default_spacing = 12 + 1.0 * speed\n",
    "    offset = (\n",
    "        spacing\n",
    "        * default_spacing\n",
    "        * np.exp(-5 / 40 * len(road.network.graph[_from][_to]))\n",
    "    )\n",
    "    x0 = (\n",
    "        np.max([lane.local_coordinates(v.position)[0] for v in road.vehicles])\n",
    "        if len(road.vehicles)\n",
    "        else 3 * offset\n",
    "    )\n",
    "    x0 += offset * road.np_random.uniform(0.9, 1.1)\n",
    "    v = cls(road, lane.position(x0, 0), lane.heading_at(x0), speed)\n",
    "    return v\n"
   ]
  }
 ],
 "metadata": {
  "language_info": {
   "name": "python"
  },
  "orig_nbformat": 4
 },
 "nbformat": 4,
 "nbformat_minor": 2
}
