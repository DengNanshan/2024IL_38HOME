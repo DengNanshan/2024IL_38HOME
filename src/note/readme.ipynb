{
 "cells": [
  {
   "cell_type": "markdown",
   "metadata": {},
   "source": [
    "在相同环境下制作IL实验结果，验证新增信息的有效性\n"
   ]
  },
  {
   "cell_type": "markdown",
   "metadata": {},
   "source": [
    "目录\n",
    "一、希望得到什么结果？\n",
    "二、环境如何设置差异性?\n",
    "三、如何构建地理特异性?\n",
    "\n",
    "随着存储空间的增加-表现性能提升\n",
    "\n",
    "是否需要共同训练：需要，但是预训练后提升组件就可以\n",
    "\n",
    "如果完全使用共同训练呢？ 使用绝对位置做，训练速度极其缓慢\n"
   ]
  },
  {
   "cell_type": "code",
   "execution_count": null,
   "metadata": {
    "vscode": {
     "languageId": "plaintext"
    }
   },
   "outputs": [],
   "source": [
    "一、希望得到什么结果？\n",
    "\n",
    "1. 无地理知识：单独训练与一起训练的现象：单独训练在训练数据上损失函数更小，在整体环境损失更大\n",
    "2. 有地理知识：存储空间越大、表现性能提升越明显\n",
    "3. 有地理知识 + 不需要共同训练： 对比加入绝对位置，收敛缓慢。(三聚类 (-1,0,1),连续(-3-1))"
   ]
  },
  {
   "cell_type": "markdown",
   "metadata": {},
   "source": [
    "二、环境如何设置差异性\n",
    "\n",
    "模仿不同的环境模型、激进，不激进，\n"
   ]
  },
  {
   "cell_type": "markdown",
   "metadata": {},
   "source": [
    "三、如何构建地理特异性？\n",
    "\n",
    "修改编码空间位置"
   ]
  }
 ],
 "metadata": {
  "language_info": {
   "name": "python"
  },
  "orig_nbformat": 4
 },
 "nbformat": 4,
 "nbformat_minor": 2
}
