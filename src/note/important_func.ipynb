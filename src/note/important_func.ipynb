{
 "cells": [
  {
   "cell_type": "markdown",
   "metadata": {},
   "source": [
    "让车动起来的代码"
   ]
  },
  {
   "cell_type": "markdown",
   "metadata": {},
   "source": [
    "env.step()\n",
    "->  road.act() # road/road.py\n",
    "    ->  vehicle.act() # vehicle/controller.py  cls MDPVehilce\n",
    "    ->  vehicle.act() # vehicle/behavior.py  cls IDMVehicle"
   ]
  },
  {
   "cell_type": "markdown",
   "metadata": {},
   "source": [
    "获取环境车的状态空间   车的序号如下\n",
    "————————————————————————————————————————————>\n",
    "44444                              333333\n",
    "-———————————————————————————————————————————>\n",
    "2222           000000              11111\n",
    "-———————————————————————————————————————————>\n",
    "66666                              55555\n",
    "-———————————————————————————————————————————>\n",
    " "
   ]
  },
  {
   "cell_type": "markdown",
   "metadata": {},
   "source": [
    "需要获取环境车状态空间\n",
    "新增函数 \n",
    "IMDVehicle.d_get_state_vehicle() -> 返回7辆车\n",
    "IMDVehicle.d_get_state() 返回状态\n",
    "\n"
   ]
  },
  {
   "cell_type": "code",
   "execution_count": null,
   "metadata": {},
   "outputs": [],
   "source": [
    "def d_get_state_vehicle(self):\n",
    "    \"\"\"Get the state of the vehicle.\"\"\"\n",
    "    front_vehicle, rear_vehicle = self.road.neighbour_vehicles(\n",
    "        self, self.lane_index\n",
    "    )\n",
    "    \"\"\"Left\"\"\"\n",
    "\n",
    "\n",
    "    Lanes =  self.road.network.d_side_lanes(self.lane_index)\n",
    "    Leftline = Lanes[0]\n",
    "    Rightline = Lanes[1]\n",
    "    if Leftline is not None:\n",
    "        front_left_vehicle, rear_left_vehicle = self.road.neighbour_vehicles(\n",
    "            self, Leftline\n",
    "        )\n",
    "    else:\n",
    "        front_left_vehicle, rear_left_vehicle = None, None\n",
    "    if Rightline is not None:\n",
    "        front_right_vehicle, rear_right_vehicle = self.road.neighbour_vehicles(\n",
    "            self, Rightline\n",
    "        )\n",
    "    else:\n",
    "        front_right_vehicle, rear_right_vehicle = None, None\n",
    "    state_v = [self,\n",
    "                front_vehicle,\n",
    "                rear_vehicle,\n",
    "                front_left_vehicle,\n",
    "                rear_left_vehicle,\n",
    "                front_right_vehicle,\n",
    "                rear_right_vehicle]\n",
    "    return state_v"
   ]
  },
  {
   "cell_type": "code",
   "execution_count": null,
   "metadata": {},
   "outputs": [],
   "source": []
  },
  {
   "cell_type": "markdown",
   "metadata": {},
   "source": [
    "新增函数 \n",
    "def d_side_lanes(self, lane_index: LaneIndex) -> List[LaneIndex]:\n",
    "与原文区别是，当不存在的时候返回None"
   ]
  },
  {
   "cell_type": "code",
   "execution_count": null,
   "metadata": {},
   "outputs": [],
   "source": [
    "def d_side_lanes(self, lane_index: LaneIndex) -> List[LaneIndex]:\n",
    "    \"\"\"\n",
    "    :param lane_index: the index of a lane.\n",
    "    :return: indexes of lanes next to a an input lane, to its right or left.\n",
    "    \"\"\"\n",
    "    _from, _to, _id = lane_index\n",
    "    lanes = []\n",
    "    if _id < len(self.graph[_from][_to]) - 1:\n",
    "        lanes.append((_from, _to, _id + 1))\n",
    "    else:\n",
    "        lanes.append(None)\n",
    "    if _id > 0:\n",
    "        lanes.append((_from, _to, _id - 1))\n",
    "    else:\n",
    "        lanes.append(None)\n",
    "    return lanes"
   ]
  }
 ],
 "metadata": {
  "language_info": {
   "name": "python"
  },
  "orig_nbformat": 4
 },
 "nbformat": 4,
 "nbformat_minor": 2
}
