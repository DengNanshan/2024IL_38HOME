{
 "cells": [
  {
   "cell_type": "markdown",
   "metadata": {},
   "source": [
    "让车动起来的代码"
   ]
  },
  {
   "cell_type": "markdown",
   "metadata": {},
   "source": [
    "env.step()\n",
    "->  road.act() # road/road.py\n",
    "    ->  vehicle.act() # vehicle/controller.py  cls MDPVehilce\n",
    "    ->  vehicle.act() # vehicle/behavior.py  cls IDMVehicle"
   ]
  },
  {
   "cell_type": "markdown",
   "metadata": {},
   "source": [
    "获取环境车的状态空间   车的序号如下\n",
    "————————————————————————————————————————————>\n",
    "44444                              333333\n",
    "-———————————————————————————————————————————>\n",
    "2222           000000              11111\n",
    "-———————————————————————————————————————————>\n",
    "66666                              55555\n",
    "-———————————————————————————————————————————>\n",
    " "
   ]
  },
  {
   "cell_type": "markdown",
   "metadata": {},
   "source": [
    "需要获取环境车状态空间\n",
    "新增函数 \n",
    "IMDVehicle.d_get_state_vehicle() -> 返回7辆车\n",
    "IMDVehicle.d_get_state() 返回状态\n",
    "\n"
   ]
  },
  {
   "cell_type": "code",
   "execution_count": null,
   "metadata": {},
   "outputs": [],
   "source": [
    "def d_get_state_vehicle(self):\n",
    "    \"\"\"Get the state of the vehicle.\"\"\"\n",
    "    front_vehicle, rear_vehicle = self.road.neighbour_vehicles(\n",
    "        self, self.lane_index\n",
    "    )\n",
    "    \"\"\"Left\"\"\"\n",
    "\n",
    "\n",
    "    Lanes =  self.road.network.d_side_lanes(self.lane_index)\n",
    "    Leftline = Lanes[0]\n",
    "    Rightline = Lanes[1]\n",
    "    if Leftline is not None:\n",
    "        front_left_vehicle, rear_left_vehicle = self.road.neighbour_vehicles(\n",
    "            self, Leftline\n",
    "        )\n",
    "    else:\n",
    "        front_left_vehicle, rear_left_vehicle = None, None\n",
    "    if Rightline is not None:\n",
    "        front_right_vehicle, rear_right_vehicle = self.road.neighbour_vehicles(\n",
    "            self, Rightline\n",
    "        )\n",
    "    else:\n",
    "        front_right_vehicle, rear_right_vehicle = None, None\n",
    "    state_v = [self,\n",
    "                front_vehicle,\n",
    "                rear_vehicle,\n",
    "                front_left_vehicle,\n",
    "                rear_left_vehicle,\n",
    "                front_right_vehicle,\n",
    "                rear_right_vehicle]\n",
    "    return state_v"
   ]
  },
  {
   "cell_type": "code",
   "execution_count": null,
   "metadata": {},
   "outputs": [],
   "source": [
    "def d_get_state(self):\n",
    "    FEATURES = [\"presence\", \"x\", \"y\", \"vx\", \"vy\"]\n",
    "\n",
    "    features_range = {\n",
    "        \"x\": [-5.0 * Vehicle.MAX_SPEED, 5.0 * Vehicle.MAX_SPEED],\n",
    "        \"y\": [-16,16],\n",
    "        \"vx\": [-2 * Vehicle.MAX_SPEED, 2 * Vehicle.MAX_SPEED],\n",
    "        \"vy\": [-2 * Vehicle.MAX_SPEED, 2 * Vehicle.MAX_SPEED],\n",
    "    }\n",
    "\n",
    "    vehicles = self.d_get_state_vehicle()\n",
    "    state = np.zeros([7,4])\n",
    "    for i,vehicle in enumerate(vehicles):\n",
    "        if vehicle is not None:\n",
    "            state[i] = [vehicle.position[0],\n",
    "                        vehicle.position[1],\n",
    "                        vehicle.velocity[0],\n",
    "                        vehicle.velocity[1]]\n",
    "    # relative position\n",
    "    for i in range(1, 7):\n",
    "        if state[i][0] is not None:\n",
    "            state[i][0] -= state[0][0]\n",
    "            state[i][1] -= state[0][1]\n",
    "            state[i][2] -= state[0][2]\n",
    "            state[i][3] -= state[0][3]\n",
    "\n",
    "    # normalize the state to [-1,1]\n",
    "    for i in range(7):\n",
    "        state[i][0] = utils.lmap(state[i][0], features_range[\"x\"], [-1, 1])\n",
    "        state[i][1] = utils.lmap(state[i][1], features_range[\"y\"], [-1, 1])\n",
    "        state[i][2] = utils.lmap(state[i][2], features_range[\"vx\"], [-1, 1])\n",
    "        state[i][3] = utils.lmap(state[i][3], features_range[\"vy\"], [-1, 1])\n",
    "    # clip the state to [-1,1]\n",
    "    state = np.clip(state, -1, 1)\n",
    "\n",
    "    return {\n",
    "        \"state\": state,\n",
    "        \"action\": self.action,\n",
    "    }"
   ]
  },
  {
   "cell_type": "markdown",
   "metadata": {},
   "source": [
    "新增函数 \n",
    "def d_side_lanes(self, lane_index: LaneIndex) -> List[LaneIndex]:\n",
    "与原文区别是，当不存在的时候返回None"
   ]
  },
  {
   "cell_type": "code",
   "execution_count": null,
   "metadata": {},
   "outputs": [],
   "source": [
    "def d_side_lanes(self, lane_index: LaneIndex) -> List[LaneIndex]:\n",
    "    \"\"\"\n",
    "    :param lane_index: the index of a lane.\n",
    "    :return: indexes of lanes next to a an input lane, to its right or left.\n",
    "    \"\"\"\n",
    "    _from, _to, _id = lane_index\n",
    "    lanes = []\n",
    "    if _id < len(self.graph[_from][_to]) - 1:\n",
    "        lanes.append((_from, _to, _id + 1))\n",
    "    else:\n",
    "        lanes.append(None)\n",
    "    if _id > 0:\n",
    "        lanes.append((_from, _to, _id - 1))\n",
    "    else:\n",
    "        lanes.append(None)\n",
    "    return lanes"
   ]
  }
 ],
 "metadata": {
  "language_info": {
   "name": "python"
  },
  "orig_nbformat": 4
 },
 "nbformat": 4,
 "nbformat_minor": 2
}
